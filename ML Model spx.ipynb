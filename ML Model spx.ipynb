{
 "cells": [
  {
   "cell_type": "markdown",
   "id": "fd163be0",
   "metadata": {},
   "source": [
    "## Building a classification model for the spx dataset\n",
    "\n",
    "\n",
    "In this Jupyter notebook, we will be building a classification model for the spx data set using the random forest algorithm.\n",
    "\n",
    "\n"
   ]
  },
  {
   "cell_type": "markdown",
   "id": "833750c4",
   "metadata": {},
   "source": [
    "### 1. Import libraries"
   ]
  },
  {
   "cell_type": "code",
   "execution_count": 1,
   "id": "b9e0f8ac",
   "metadata": {},
   "outputs": [],
   "source": [
    "from sklearn import datasets\n",
    "from sklearn.model_selection import train_test_split\n",
    "from sklearn.ensemble import RandomForestClassifier\n",
    "from sklearn.datasets import make_classification\n",
    "import pandas as pd\n",
    "from sklearn.preprocessing import OneHotEncoder"
   ]
  },
  {
   "cell_type": "markdown",
   "id": "515d327e",
   "metadata": {},
   "source": [
    "### 2. Load the dataset"
   ]
  },
  {
   "cell_type": "code",
   "execution_count": 2,
   "id": "6fdaa807",
   "metadata": {},
   "outputs": [],
   "source": [
    "# Import excel file using pandas\n",
    "data = pd.read_excel(\"https://raw.githubusercontent.com/vsipra/ml-pipeline-spx/main/SPX_train_0.xlsx\")\n",
    "\n",
    "# The dataset has 899 rows and 16 columns"
   ]
  },
  {
   "cell_type": "markdown",
   "id": "baf8058d",
   "metadata": {},
   "source": [
    "### 3. Input Features"
   ]
  },
  {
   "cell_type": "markdown",
   "id": "bd21aad8",
   "metadata": {},
   "source": [
    "The spx dataset contains 15 input features and 1 output variable (the class label)."
   ]
  },
  {
   "cell_type": "code",
   "execution_count": 3,
   "id": "cb7b7b33",
   "metadata": {},
   "outputs": [],
   "source": [
    "X = data.drop(columns=[\"Returns\",\"Time\"], axis=1)   #Feature Matrix\n",
    "Y = data[\"Returns\"]          #Target Variable"
   ]
  },
  {
   "cell_type": "code",
   "execution_count": 4,
   "id": "1f529987",
   "metadata": {},
   "outputs": [
    {
     "data": {
      "text/plain": [
       "(899, 14)"
      ]
     },
     "execution_count": 4,
     "metadata": {},
     "output_type": "execute_result"
    }
   ],
   "source": [
    "X.shape"
   ]
  },
  {
   "cell_type": "code",
   "execution_count": 5,
   "id": "2c1ea09a",
   "metadata": {},
   "outputs": [
    {
     "data": {
      "text/plain": [
       "(899,)"
      ]
     },
     "execution_count": 5,
     "metadata": {},
     "output_type": "execute_result"
    }
   ],
   "source": [
    "Y.shape"
   ]
  },
  {
   "cell_type": "code",
   "execution_count": 6,
   "id": "99e9df23",
   "metadata": {},
   "outputs": [
    {
     "name": "stdout",
     "output_type": "stream",
     "text": [
      "           dp        dy        ep        de      svar        bm      ntis  \\\n",
      "0   -3.041609 -3.027403 -2.662340 -0.379269  0.000924  0.735342  0.016454   \n",
      "1   -3.096132 -3.036338 -2.711553 -0.384579  0.000655  0.704489  0.014836   \n",
      "2   -3.043790 -3.091042 -2.653829 -0.389961  0.001887  0.767883  0.015963   \n",
      "3   -3.128109 -3.043790 -2.724389 -0.403720  0.001398  0.715063  0.015086   \n",
      "4   -3.139500 -3.128109 -2.722106 -0.417394  0.000921  0.702911  0.019773   \n",
      "..        ...       ...       ...       ...       ...       ...       ...   \n",
      "894 -3.966309 -3.953266 -3.098391 -0.867918  0.000594  0.233834 -0.012703   \n",
      "895 -3.941330 -3.959587 -3.086025 -0.855304  0.004318  0.237917 -0.010244   \n",
      "896 -3.951689 -3.934654 -3.108987 -0.842702  0.000605  0.233377 -0.010959   \n",
      "897 -3.965984 -3.945758 -3.112869 -0.853115  0.001510  0.232261 -0.013267   \n",
      "898 -3.993568 -3.960087 -3.130267 -0.863300  0.000306  0.223938 -0.007907   \n",
      "\n",
      "        tbl     lty     ltr     tms     dfy     dfr      infl  \n",
      "0    0.0038  0.0240  0.0127  0.0202  0.0077 -0.0051  0.000000  \n",
      "1    0.0038  0.0236  0.0077  0.0198  0.0076 -0.0031  0.000000  \n",
      "2    0.0038  0.0236  0.0021  0.0198  0.0076 -0.0003  0.000000  \n",
      "3    0.0038  0.0228  0.0160  0.0190  0.0075 -0.0142  0.000000  \n",
      "4    0.0038  0.0226  0.0056  0.0188  0.0070 -0.0067  0.005618  \n",
      "..      ...     ...     ...     ...     ...     ...       ...  \n",
      "894  0.0210  0.0206  0.0024 -0.0004  0.0099  0.0060  0.001671  \n",
      "895  0.0195  0.0163  0.0797 -0.0032  0.0089 -0.0059 -0.000051  \n",
      "896  0.0189  0.0170 -0.0192 -0.0019  0.0088  0.0002  0.000783  \n",
      "897  0.0165  0.0171 -0.0052  0.0006  0.0091  0.0058  0.002286  \n",
      "898  0.0154  0.0181 -0.0059  0.0027  0.0088  0.0073 -0.000536  \n",
      "\n",
      "[899 rows x 14 columns]\n"
     ]
    }
   ],
   "source": [
    "print(X)"
   ]
  },
  {
   "cell_type": "markdown",
   "id": "55398a93",
   "metadata": {},
   "source": [
    "### 4. Build classification model using Random Forest"
   ]
  },
  {
   "cell_type": "code",
   "execution_count": 7,
   "id": "08639554",
   "metadata": {},
   "outputs": [],
   "source": [
    "clf = RandomForestClassifier()"
   ]
  },
  {
   "cell_type": "code",
   "execution_count": 8,
   "id": "cc93d131",
   "metadata": {},
   "outputs": [],
   "source": [
    "# X = data.drop(columns=\"Time\", axis=1, inplace=True)   "
   ]
  },
  {
   "cell_type": "code",
   "execution_count": 9,
   "id": "1ebab6ea",
   "metadata": {},
   "outputs": [
    {
     "data": {
      "text/plain": [
       "RandomForestClassifier()"
      ]
     },
     "execution_count": 9,
     "metadata": {},
     "output_type": "execute_result"
    }
   ],
   "source": [
    "clf.fit(X.values, Y)"
   ]
  },
  {
   "cell_type": "markdown",
   "id": "848cf7a0",
   "metadata": {},
   "source": [
    "### 5. Feature Importance"
   ]
  },
  {
   "cell_type": "code",
   "execution_count": 10,
   "id": "1d218d11",
   "metadata": {},
   "outputs": [
    {
     "name": "stdout",
     "output_type": "stream",
     "text": [
      "[0.07274592 0.07223183 0.07275173 0.06978757 0.07297904 0.06883099\n",
      " 0.08194636 0.06643644 0.06718442 0.07169159 0.06722611 0.06231075\n",
      " 0.07299211 0.08088513]\n"
     ]
    }
   ],
   "source": [
    "print(clf.feature_importances_)"
   ]
  },
  {
   "cell_type": "markdown",
   "id": "8d63fc4a",
   "metadata": {},
   "source": [
    "### 6. Data split (80/20 ratio)"
   ]
  },
  {
   "cell_type": "code",
   "execution_count": 11,
   "id": "8d97379f",
   "metadata": {},
   "outputs": [],
   "source": [
    "X_train, X_test, Y_train, Y_test = train_test_split(X, Y, test_size=0.2)"
   ]
  },
  {
   "cell_type": "code",
   "execution_count": 12,
   "id": "028b0420",
   "metadata": {},
   "outputs": [
    {
     "data": {
      "text/plain": [
       "((719, 14), (719,))"
      ]
     },
     "execution_count": 12,
     "metadata": {},
     "output_type": "execute_result"
    }
   ],
   "source": [
    "X_train.shape, Y_train.shape"
   ]
  },
  {
   "cell_type": "code",
   "execution_count": 13,
   "id": "e5e1fb26",
   "metadata": {},
   "outputs": [
    {
     "data": {
      "text/plain": [
       "((180, 14), (180,))"
      ]
     },
     "execution_count": 13,
     "metadata": {},
     "output_type": "execute_result"
    }
   ],
   "source": [
    "X_test.shape, Y_test.shape"
   ]
  },
  {
   "cell_type": "code",
   "execution_count": 14,
   "id": "aeb1e19d",
   "metadata": {},
   "outputs": [
    {
     "name": "stdout",
     "output_type": "stream",
     "text": [
      "dp\n",
      "dy\n",
      "ep\n",
      "de\n",
      "svar\n",
      "bm\n",
      "ntis\n",
      "tbl\n",
      "lty\n",
      "ltr\n",
      "tms\n",
      "dfy\n",
      "dfr\n",
      "infl\n"
     ]
    }
   ],
   "source": [
    "for col in X:\n",
    "    print(col)"
   ]
  },
  {
   "cell_type": "markdown",
   "id": "5cac35ea",
   "metadata": {},
   "source": [
    "### 7. Rebuild the Random Forest Model"
   ]
  },
  {
   "cell_type": "code",
   "execution_count": 15,
   "id": "f844d564",
   "metadata": {},
   "outputs": [
    {
     "data": {
      "text/plain": [
       "RandomForestClassifier()"
      ]
     },
     "execution_count": 15,
     "metadata": {},
     "output_type": "execute_result"
    }
   ],
   "source": [
    "clf.fit(X_train.values, Y_train)"
   ]
  },
  {
   "cell_type": "markdown",
   "id": "ed5e8c46",
   "metadata": {},
   "source": [
    "### 8. Perform predictions on the test set"
   ]
  },
  {
   "cell_type": "markdown",
   "id": "439ff9e3",
   "metadata": {},
   "source": [
    "Predicted class labels"
   ]
  },
  {
   "cell_type": "code",
   "execution_count": 17,
   "id": "08d3878d",
   "metadata": {},
   "outputs": [
    {
     "name": "stdout",
     "output_type": "stream",
     "text": [
      "[1 1 1 1 1 1 1 1 0 1 0 0 1 1 1 0 1 1 1 1 0 1 0 0 1 1 0 1 1 1 1 1 0 0 1 0 1\n",
      " 0 1 1 0 0 1 0 0 0 1 0 1 1 0 0 1 0 0 1 0 0 1 1 0 0 1 1 1 0 1 0 0 1 1 0 1 1\n",
      " 1 1 0 1 1 1 1 0 1 1 1 1 1 0 0 1 1 0 1 1 1 1 1 1 1 1 1 1 0 1 1 1 1 0 1 1 0\n",
      " 1 1 1 0 1 1 1 1 1 0 1 1 0 1 0 0 0 1 1 0 1 1 1 1 1 0 0 1 0 0 0 0 1 0 0 0 1\n",
      " 0 1 1 0 1 1 0 1 0 0 0 0 0 1 1 1 1 1 0 0 1 1 1 1 1 0 1 0 0 0 0 1]\n"
     ]
    }
   ],
   "source": [
    "print(clf.predict(X_test.values))"
   ]
  },
  {
   "cell_type": "markdown",
   "id": "b1b53e95",
   "metadata": {},
   "source": [
    "Actual class labels"
   ]
  },
  {
   "cell_type": "code",
   "execution_count": 18,
   "id": "d5726686",
   "metadata": {},
   "outputs": [
    {
     "name": "stdout",
     "output_type": "stream",
     "text": [
      "842    1\n",
      "808    1\n",
      "810    1\n",
      "820    0\n",
      "5      0\n",
      "      ..\n",
      "398    1\n",
      "432    1\n",
      "82     1\n",
      "379    1\n",
      "566    1\n",
      "Name: Returns, Length: 180, dtype: int64\n"
     ]
    }
   ],
   "source": [
    "print(Y_test)"
   ]
  },
  {
   "cell_type": "markdown",
   "id": "9ecda4e6",
   "metadata": {},
   "source": [
    "### 9. Model Performance"
   ]
  },
  {
   "cell_type": "code",
   "execution_count": 20,
   "id": "3756334c",
   "metadata": {},
   "outputs": [
    {
     "name": "stdout",
     "output_type": "stream",
     "text": [
      "0.5666666666666667\n"
     ]
    }
   ],
   "source": [
    "print(clf.score(X_test.values, Y_test))"
   ]
  },
  {
   "cell_type": "code",
   "execution_count": null,
   "id": "49e9e154",
   "metadata": {},
   "outputs": [],
   "source": [
    "### Create a Pickle file using serialization \n",
    "import pickle\n",
    "pickle_out = open(\"C:\\\\Users\\\\vajih\\\\OneDrive\\\\Documents\\\\Learning\\\\ml-model-spx\\\\classifier.pkl\",\"wb\")\n",
    "pickle.dump(clf, pickle_out)\n",
    "pickle_out.close()"
   ]
  },
  {
   "cell_type": "code",
   "execution_count": null,
   "id": "51a5dd8e",
   "metadata": {},
   "outputs": [],
   "source": [
    "python --version"
   ]
  },
  {
   "cell_type": "code",
   "execution_count": 22,
   "id": "5f76c654",
   "metadata": {},
   "outputs": [],
   "source": [
    "prediction = clf.predict([[2,3,4,1,2,3,4,1,2,3,4,1,1,1]])\n",
    "\n",
    "#print(type(X_test))"
   ]
  },
  {
   "cell_type": "code",
   "execution_count": null,
   "id": "49d0a619",
   "metadata": {},
   "outputs": [],
   "source": [
    "print(X_test)"
   ]
  },
  {
   "cell_type": "code",
   "execution_count": 25,
   "id": "5294be04",
   "metadata": {},
   "outputs": [
    {
     "name": "stdout",
     "output_type": "stream",
     "text": [
      "<class 'numpy.ndarray'>\n"
     ]
    }
   ],
   "source": [
    "print(type(prediction))"
   ]
  }
 ],
 "metadata": {
  "kernelspec": {
   "display_name": "Python 3",
   "language": "python",
   "name": "python3"
  },
  "language_info": {
   "codemirror_mode": {
    "name": "ipython",
    "version": 3
   },
   "file_extension": ".py",
   "mimetype": "text/x-python",
   "name": "python",
   "nbconvert_exporter": "python",
   "pygments_lexer": "ipython3",
   "version": "3.7.11"
  }
 },
 "nbformat": 4,
 "nbformat_minor": 5
}
